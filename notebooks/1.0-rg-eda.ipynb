{
 "cells": [
  {
   "cell_type": "code",
   "execution_count": 75,
   "id": "eb526455",
   "metadata": {},
   "outputs": [],
   "source": [
    "import pandas as pd"
   ]
  },
  {
   "cell_type": "code",
   "execution_count": 76,
   "id": "eedde022",
   "metadata": {},
   "outputs": [],
   "source": [
    "data = pd.read_csv('../data/raw/land_mines.csv')"
   ]
  },
  {
   "cell_type": "markdown",
   "id": "36609ddc",
   "metadata": {},
   "source": [
    "# Basic checks and train/test split"
   ]
  },
  {
   "cell_type": "code",
   "execution_count": 77,
   "id": "8c5045ff",
   "metadata": {},
   "outputs": [
    {
     "name": "stdout",
     "output_type": "stream",
     "text": [
      "<class 'pandas.core.frame.DataFrame'>\n",
      "RangeIndex: 338 entries, 0 to 337\n",
      "Data columns (total 4 columns):\n",
      " #   Column  Non-Null Count  Dtype  \n",
      "---  ------  --------------  -----  \n",
      " 0   V       338 non-null    float64\n",
      " 1   H       338 non-null    float64\n",
      " 2   S       338 non-null    float64\n",
      " 3   M       338 non-null    int64  \n",
      "dtypes: float64(3), int64(1)\n",
      "memory usage: 10.7 KB\n"
     ]
    }
   ],
   "source": [
    "data.info()"
   ]
  },
  {
   "cell_type": "code",
   "execution_count": 78,
   "id": "13416eff",
   "metadata": {},
   "outputs": [],
   "source": [
    "data[\"M\"] = (data[\"M\"] != 1).astype(int)\n",
    "\n",
    "data = data.rename(columns={\"M\": \"mine\", \"V\": \"voltage\", \"H\": \"height\", \"S\": \"soil\"})"
   ]
  },
  {
   "cell_type": "code",
   "execution_count": 79,
   "id": "2a1825ad",
   "metadata": {},
   "outputs": [],
   "source": [
    "from sklearn.model_selection import train_test_split\n",
    "\n",
    "train, test = train_test_split(data, test_size=0.2, random_state=42, stratify=data[\"mine\"])"
   ]
  },
  {
   "cell_type": "code",
   "execution_count": 80,
   "id": "1b91cb89",
   "metadata": {},
   "outputs": [
    {
     "name": "stdout",
     "output_type": "stream",
     "text": [
      "<class 'pandas.core.frame.DataFrame'>\n",
      "Index: 270 entries, 130 to 162\n",
      "Data columns (total 4 columns):\n",
      " #   Column   Non-Null Count  Dtype  \n",
      "---  ------   --------------  -----  \n",
      " 0   voltage  270 non-null    float64\n",
      " 1   height   270 non-null    float64\n",
      " 2   soil     270 non-null    float64\n",
      " 3   mine     270 non-null    int64  \n",
      "dtypes: float64(3), int64(1)\n",
      "memory usage: 10.5 KB\n"
     ]
    }
   ],
   "source": [
    "train.info()"
   ]
  },
  {
   "cell_type": "code",
   "execution_count": 81,
   "id": "5ac6d787",
   "metadata": {},
   "outputs": [
    {
     "name": "stdout",
     "output_type": "stream",
     "text": [
      "<class 'pandas.core.frame.DataFrame'>\n",
      "Index: 68 entries, 327 to 271\n",
      "Data columns (total 4 columns):\n",
      " #   Column   Non-Null Count  Dtype  \n",
      "---  ------   --------------  -----  \n",
      " 0   voltage  68 non-null     float64\n",
      " 1   height   68 non-null     float64\n",
      " 2   soil     68 non-null     float64\n",
      " 3   mine     68 non-null     int64  \n",
      "dtypes: float64(3), int64(1)\n",
      "memory usage: 2.7 KB\n"
     ]
    }
   ],
   "source": [
    "test.info()"
   ]
  },
  {
   "cell_type": "code",
   "execution_count": 82,
   "id": "812efd84",
   "metadata": {},
   "outputs": [],
   "source": [
    "train.to_csv('../data/interim/train.csv', index=False)\n",
    "test.to_csv('../data/interim/test.csv', index=False)"
   ]
  },
  {
   "cell_type": "markdown",
   "id": "e3ac6d50",
   "metadata": {},
   "source": [
    "# Exploration"
   ]
  },
  {
   "cell_type": "code",
   "execution_count": 83,
   "id": "7e084d49",
   "metadata": {},
   "outputs": [
    {
     "data": {
      "text/html": [
       "<div>\n",
       "<style scoped>\n",
       "    .dataframe tbody tr th:only-of-type {\n",
       "        vertical-align: middle;\n",
       "    }\n",
       "\n",
       "    .dataframe tbody tr th {\n",
       "        vertical-align: top;\n",
       "    }\n",
       "\n",
       "    .dataframe thead th {\n",
       "        text-align: right;\n",
       "    }\n",
       "</style>\n",
       "<table border=\"1\" class=\"dataframe\">\n",
       "  <thead>\n",
       "    <tr style=\"text-align: right;\">\n",
       "      <th></th>\n",
       "      <th>voltage</th>\n",
       "      <th>height</th>\n",
       "      <th>soil</th>\n",
       "      <th>mine</th>\n",
       "    </tr>\n",
       "  </thead>\n",
       "  <tbody>\n",
       "    <tr>\n",
       "      <th>count</th>\n",
       "      <td>270.000000</td>\n",
       "      <td>270.000000</td>\n",
       "      <td>270.000000</td>\n",
       "      <td>270.000000</td>\n",
       "    </tr>\n",
       "    <tr>\n",
       "      <th>mean</th>\n",
       "      <td>0.428744</td>\n",
       "      <td>0.511448</td>\n",
       "      <td>0.486667</td>\n",
       "      <td>0.788889</td>\n",
       "    </tr>\n",
       "    <tr>\n",
       "      <th>std</th>\n",
       "      <td>0.195421</td>\n",
       "      <td>0.303958</td>\n",
       "      <td>0.347973</td>\n",
       "      <td>0.408855</td>\n",
       "    </tr>\n",
       "    <tr>\n",
       "      <th>min</th>\n",
       "      <td>0.197734</td>\n",
       "      <td>0.000000</td>\n",
       "      <td>0.000000</td>\n",
       "      <td>0.000000</td>\n",
       "    </tr>\n",
       "    <tr>\n",
       "      <th>25%</th>\n",
       "      <td>0.308157</td>\n",
       "      <td>0.272727</td>\n",
       "      <td>0.200000</td>\n",
       "      <td>1.000000</td>\n",
       "    </tr>\n",
       "    <tr>\n",
       "      <th>50%</th>\n",
       "      <td>0.356495</td>\n",
       "      <td>0.545455</td>\n",
       "      <td>0.400000</td>\n",
       "      <td>1.000000</td>\n",
       "    </tr>\n",
       "    <tr>\n",
       "      <th>75%</th>\n",
       "      <td>0.478851</td>\n",
       "      <td>0.818182</td>\n",
       "      <td>0.800000</td>\n",
       "      <td>1.000000</td>\n",
       "    </tr>\n",
       "    <tr>\n",
       "      <th>max</th>\n",
       "      <td>0.999999</td>\n",
       "      <td>1.000000</td>\n",
       "      <td>1.000000</td>\n",
       "      <td>1.000000</td>\n",
       "    </tr>\n",
       "  </tbody>\n",
       "</table>\n",
       "</div>"
      ],
      "text/plain": [
       "          voltage      height        soil        mine\n",
       "count  270.000000  270.000000  270.000000  270.000000\n",
       "mean     0.428744    0.511448    0.486667    0.788889\n",
       "std      0.195421    0.303958    0.347973    0.408855\n",
       "min      0.197734    0.000000    0.000000    0.000000\n",
       "25%      0.308157    0.272727    0.200000    1.000000\n",
       "50%      0.356495    0.545455    0.400000    1.000000\n",
       "75%      0.478851    0.818182    0.800000    1.000000\n",
       "max      0.999999    1.000000    1.000000    1.000000"
      ]
     },
     "execution_count": 83,
     "metadata": {},
     "output_type": "execute_result"
    }
   ],
   "source": [
    "train.describe()"
   ]
  },
  {
   "cell_type": "code",
   "execution_count": 84,
   "id": "1b90c4f8",
   "metadata": {},
   "outputs": [
    {
     "data": {
      "text/plain": [
       "mine\n",
       "1    213\n",
       "0     57\n",
       "Name: count, dtype: int64"
      ]
     },
     "execution_count": 84,
     "metadata": {},
     "output_type": "execute_result"
    }
   ],
   "source": [
    "train[\"mine\"].value_counts()"
   ]
  },
  {
   "cell_type": "code",
   "execution_count": 85,
   "id": "ebaf2f26",
   "metadata": {},
   "outputs": [
    {
     "data": {
      "text/plain": [
       "soil\n",
       "0.0    51\n",
       "0.4    46\n",
       "1.0    46\n",
       "0.6    44\n",
       "0.2    43\n",
       "0.8    40\n",
       "Name: count, dtype: int64"
      ]
     },
     "execution_count": 85,
     "metadata": {},
     "output_type": "execute_result"
    }
   ],
   "source": [
    "# soil is actually categorical\n",
    "train[\"soil\"].value_counts()"
   ]
  },
  {
   "cell_type": "code",
   "execution_count": null,
   "id": "2a9f1d7f",
   "metadata": {},
   "outputs": [
    {
     "data": {
      "text/plain": [
       "130    0.352960\n",
       "228    0.253776\n",
       "101    0.303262\n",
       "114    0.314199\n",
       "86     0.999999\n",
       "Name: voltage, dtype: float64"
      ]
     },
     "execution_count": 88,
     "metadata": {},
     "output_type": "execute_result"
    }
   ],
   "source": [
    "# voltage is numerical/continuous\n",
    "train[\"voltage\"].head()"
   ]
  },
  {
   "cell_type": "code",
   "execution_count": null,
   "id": "da997269",
   "metadata": {},
   "outputs": [
    {
     "data": {
      "text/plain": [
       "height\n",
       "0.545455    26\n",
       "0.818182    26\n",
       "0.181818    25\n",
       "0.636364    25\n",
       "0.454545    24\n",
       "0.272727    24\n",
       "1.000000    23\n",
       "0.363636    22\n",
       "0.909091    20\n",
       "0.727273    19\n",
       "0.090909    19\n",
       "0.000000    17\n",
       "Name: count, dtype: int64"
      ]
     },
     "execution_count": 90,
     "metadata": {},
     "output_type": "execute_result"
    }
   ],
   "source": [
    "# height is numerical, but seems to be somewhat discrete\n",
    "train[\"height\"].value_counts()"
   ]
  }
 ],
 "metadata": {
  "kernelspec": {
   "display_name": "mine_detection",
   "language": "python",
   "name": "python3"
  },
  "language_info": {
   "codemirror_mode": {
    "name": "ipython",
    "version": 3
   },
   "file_extension": ".py",
   "mimetype": "text/x-python",
   "name": "python",
   "nbconvert_exporter": "python",
   "pygments_lexer": "ipython3",
   "version": "3.10.17"
  }
 },
 "nbformat": 4,
 "nbformat_minor": 5
}
